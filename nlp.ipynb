{
 "cells": [
  {
   "cell_type": "code",
   "execution_count": 1,
   "metadata": {},
   "outputs": [],
   "source": [
    "import pandas as pd\n",
    "import json\n",
    "import numpy as np"
   ]
  },
  {
   "cell_type": "markdown",
   "metadata": {},
   "source": [
    "Read the jsonl file."
   ]
  },
  {
   "cell_type": "code",
   "execution_count": 14,
   "metadata": {},
   "outputs": [],
   "source": [
    "def open_jsonl(filename):\n",
    "    sentences = []\n",
    "    with open(filename,  encoding=\"utf8\") as json_file:\n",
    "        json_list = list(json_file)\n",
    "\n",
    "    for json_str in json_list:\n",
    "        result = json.loads(json_str)\n",
    "        sentences.append(result)\n",
    "    \n",
    "    return pd.DataFrame(sentences)"
   ]
  },
  {
   "cell_type": "code",
   "execution_count": 15,
   "metadata": {},
   "outputs": [],
   "source": [
    "train = open_jsonl('../train.jsonl')\n",
    "test = open_jsonl('../test.jsonl')"
   ]
  },
  {
   "cell_type": "markdown",
   "metadata": {},
   "source": [
    "separate data between the text sentences and the label"
   ]
  },
  {
   "cell_type": "code",
   "execution_count": 16,
   "metadata": {},
   "outputs": [],
   "source": [
    "X = train['text']\n",
    "y = train['lang']"
   ]
  },
  {
   "cell_type": "markdown",
   "metadata": {},
   "source": [
    "split data"
   ]
  },
  {
   "cell_type": "code",
   "execution_count": 17,
   "metadata": {},
   "outputs": [],
   "source": [
    "from sklearn.model_selection import train_test_split\n",
    "X_train, X_test, y_train, y_test = train_test_split(X, y, test_size=0.2, random_state=0)"
   ]
  },
  {
   "cell_type": "markdown",
   "metadata": {},
   "source": [
    "convert text to token using CountVectorizer"
   ]
  },
  {
   "cell_type": "code",
   "execution_count": 18,
   "metadata": {},
   "outputs": [],
   "source": [
    "from sklearn.feature_extraction.text import CountVectorizer\n",
    "\n",
    "cv = CountVectorizer()\n",
    "X_train_counts = cv.fit_transform(X_train)"
   ]
  },
  {
   "cell_type": "code",
   "execution_count": 19,
   "metadata": {},
   "outputs": [
    {
     "data": {
      "text/html": [
       "<div>\n",
       "<style scoped>\n",
       "    .dataframe tbody tr th:only-of-type {\n",
       "        vertical-align: middle;\n",
       "    }\n",
       "\n",
       "    .dataframe tbody tr th {\n",
       "        vertical-align: top;\n",
       "    }\n",
       "\n",
       "    .dataframe thead th {\n",
       "        text-align: right;\n",
       "    }\n",
       "</style>\n",
       "<table border=\"1\" class=\"dataframe\">\n",
       "  <thead>\n",
       "    <tr style=\"text-align: right;\">\n",
       "      <th></th>\n",
       "      <th>وجہٴ</th>\n",
       "      <th>تسمیہ</th>\n",
       "      <th>یہ</th>\n",
       "      <th>ہے</th>\n",
       "      <th>کہ</th>\n",
       "      <th>مہارجٹ</th>\n",
       "      <th>برادری</th>\n",
       "      <th>کی</th>\n",
       "      <th>ایک</th>\n",
       "      <th>ذات</th>\n",
       "      <th>...</th>\n",
       "      <th>對稱性破缺終止了弱電統一</th>\n",
       "      <th>在低能量狀況</th>\n",
       "      <th>電磁力與弱力變得不一樣</th>\n",
       "      <th>因為傳遞弱力的w及z玻色子的非零質量分別為與</th>\n",
       "      <th>而傳遞電磁力的光子的質量為零</th>\n",
       "      <th>在高能量</th>\n",
       "      <th>w及z玻色子可以很容易地被製成</th>\n",
       "      <th>兩種力變得一樣</th>\n",
       "      <th>izmjenivačima</th>\n",
       "      <th>štetniji</th>\n",
       "    </tr>\n",
       "  </thead>\n",
       "  <tbody>\n",
       "    <tr>\n",
       "      <th>0</th>\n",
       "      <td>1793124</td>\n",
       "      <td>1761198</td>\n",
       "      <td>1811339</td>\n",
       "      <td>1810522</td>\n",
       "      <td>1806047</td>\n",
       "      <td>1788928</td>\n",
       "      <td>1756954</td>\n",
       "      <td>1806141</td>\n",
       "      <td>1755506</td>\n",
       "      <td>1768583</td>\n",
       "      <td>...</td>\n",
       "      <td>1960520</td>\n",
       "      <td>1930099</td>\n",
       "      <td>2151449</td>\n",
       "      <td>1924465</td>\n",
       "      <td>2090015</td>\n",
       "      <td>1937048</td>\n",
       "      <td>1328612</td>\n",
       "      <td>1876539</td>\n",
       "      <td>521168</td>\n",
       "      <td>1391889</td>\n",
       "    </tr>\n",
       "  </tbody>\n",
       "</table>\n",
       "<p>1 rows × 2437072 columns</p>\n",
       "</div>"
      ],
      "text/plain": [
       "      وجہٴ    تسمیہ       یہ       ہے       کہ   مہارجٹ   برادری       کی  \\\n",
       "0  1793124  1761198  1811339  1810522  1806047  1788928  1756954  1806141   \n",
       "\n",
       "       ایک      ذات  ...  對稱性破缺終止了弱電統一   在低能量狀況  電磁力與弱力變得不一樣  \\\n",
       "0  1755506  1768583  ...       1960520  1930099      2151449   \n",
       "\n",
       "   因為傳遞弱力的w及z玻色子的非零質量分別為與  而傳遞電磁力的光子的質量為零     在高能量  w及z玻色子可以很容易地被製成  兩種力變得一樣  \\\n",
       "0                 1924465         2090015  1937048          1328612  1876539   \n",
       "\n",
       "   izmjenivačima  štetniji  \n",
       "0         521168   1391889  \n",
       "\n",
       "[1 rows x 2437072 columns]"
      ]
     },
     "execution_count": 19,
     "metadata": {},
     "output_type": "execute_result"
    }
   ],
   "source": [
    "pd.DataFrame([cv.vocabulary_])"
   ]
  },
  {
   "cell_type": "markdown",
   "metadata": {},
   "source": [
    "calculate the TF-IDF"
   ]
  },
  {
   "cell_type": "code",
   "execution_count": 20,
   "metadata": {},
   "outputs": [],
   "source": [
    "from sklearn.feature_extraction.text import TfidfTransformer\n",
    "\n",
    "tfidf = TfidfTransformer()\n",
    "X_train_tfidf = tfidf.fit_transform(X_train_counts)"
   ]
  },
  {
   "cell_type": "markdown",
   "metadata": {},
   "source": [
    "train the model (Multinomial Naive Bayes)"
   ]
  },
  {
   "cell_type": "code",
   "execution_count": 21,
   "metadata": {},
   "outputs": [],
   "source": [
    "from sklearn.naive_bayes import MultinomialNB"
   ]
  },
  {
   "cell_type": "code",
   "execution_count": 22,
   "metadata": {},
   "outputs": [],
   "source": [
    "clf = MultinomialNB().fit(X_train_tfidf, y_train)"
   ]
  },
  {
   "cell_type": "markdown",
   "metadata": {},
   "source": [
    "### Testing using train_test_split"
   ]
  },
  {
   "cell_type": "code",
   "execution_count": 23,
   "metadata": {},
   "outputs": [],
   "source": [
    "test_sentences = X_test\n",
    "X_new_counts = cv.transform(test_sentences)\n",
    "X_new_tfidf = tfidf.transform(X_new_counts)\n",
    "\n",
    "predicted = clf.predict(X_new_tfidf)\n"
   ]
  },
  {
   "cell_type": "code",
   "execution_count": 24,
   "metadata": {},
   "outputs": [
    {
     "name": "stdout",
     "output_type": "stream",
     "text": [
      "              precision    recall  f1-score   support\n",
      "\n",
      "          af       0.99      1.00      1.00      3936\n",
      "          az       0.99      1.00      0.99      3933\n",
      "          bg       1.00      1.00      1.00      4016\n",
      "          cs       0.99      1.00      1.00      3995\n",
      "          da       0.99      1.00      0.99      3983\n",
      "          de       0.99      1.00      0.99      3977\n",
      "          el       1.00      1.00      1.00      3979\n",
      "          en       0.89      1.00      0.94      4020\n",
      "          es       0.99      1.00      1.00      3977\n",
      "          fi       0.99      1.00      0.99      4039\n",
      "          fr       0.86      1.00      0.92      3927\n",
      "          hr       1.00      1.00      1.00      4028\n",
      "          it       1.00      1.00      1.00      4055\n",
      "          ko       1.00      1.00      1.00      4036\n",
      "          nl       1.00      1.00      1.00      3970\n",
      "          no       1.00      1.00      1.00      4016\n",
      "          pl       1.00      1.00      1.00      3968\n",
      "          ru       1.00      1.00      1.00      4044\n",
      "          ur       1.00      1.00      1.00      4075\n",
      "          zh       1.00      0.67      0.80      4026\n",
      "\n",
      "    accuracy                           0.98     80000\n",
      "   macro avg       0.98      0.98      0.98     80000\n",
      "weighted avg       0.98      0.98      0.98     80000\n",
      "\n"
     ]
    }
   ],
   "source": [
    "from sklearn.metrics import classification_report\n",
    "\n",
    "print(classification_report(y_test, predicted, target_names=np.unique(y_train)))"
   ]
  },
  {
   "cell_type": "markdown",
   "metadata": {},
   "source": [
    "### Testing using the test.jsonl"
   ]
  },
  {
   "cell_type": "code",
   "execution_count": 26,
   "metadata": {},
   "outputs": [],
   "source": [
    "X_test = test['text']\n",
    "\n",
    "X_new_counts = cv.transform(X_test)\n",
    "X_new_tfidf = tfidf.transform(X_new_counts)\n",
    "\n",
    "predicted = clf.predict(X_new_tfidf)\n"
   ]
  },
  {
   "cell_type": "code",
   "execution_count": 33,
   "metadata": {},
   "outputs": [
    {
     "data": {
      "text/html": [
       "<div>\n",
       "<style scoped>\n",
       "    .dataframe tbody tr th:only-of-type {\n",
       "        vertical-align: middle;\n",
       "    }\n",
       "\n",
       "    .dataframe tbody tr th {\n",
       "        vertical-align: top;\n",
       "    }\n",
       "\n",
       "    .dataframe thead th {\n",
       "        text-align: right;\n",
       "    }\n",
       "</style>\n",
       "<table border=\"1\" class=\"dataframe\">\n",
       "  <thead>\n",
       "    <tr style=\"text-align: right;\">\n",
       "      <th></th>\n",
       "      <th>text</th>\n",
       "      <th>predicted</th>\n",
       "    </tr>\n",
       "  </thead>\n",
       "  <tbody>\n",
       "    <tr>\n",
       "      <th>0</th>\n",
       "      <td>Численность населения агломерации Парижа в 201...</td>\n",
       "      <td>ru</td>\n",
       "    </tr>\n",
       "    <tr>\n",
       "      <th>1</th>\n",
       "      <td>Наиболее выдающийся вклад в создание современн...</td>\n",
       "      <td>ru</td>\n",
       "    </tr>\n",
       "    <tr>\n",
       "      <th>2</th>\n",
       "      <td>С началом франко-прусской войны 1870—1871 годо...</td>\n",
       "      <td>ru</td>\n",
       "    </tr>\n",
       "    <tr>\n",
       "      <th>3</th>\n",
       "      <td>Основное преимущество офсетных антенн в том, ч...</td>\n",
       "      <td>ru</td>\n",
       "    </tr>\n",
       "    <tr>\n",
       "      <th>4</th>\n",
       "      <td>Выручка от реализации продукции, товаров, рабо...</td>\n",
       "      <td>ru</td>\n",
       "    </tr>\n",
       "    <tr>\n",
       "      <th>...</th>\n",
       "      <td>...</td>\n",
       "      <td>...</td>\n",
       "    </tr>\n",
       "    <tr>\n",
       "      <th>99133</th>\n",
       "      <td>Under den tyske invasionen af Norge i 1940 ble...</td>\n",
       "      <td>da</td>\n",
       "    </tr>\n",
       "    <tr>\n",
       "      <th>99134</th>\n",
       "      <td>Verdens ældste eksisterende marineinfanterikor...</td>\n",
       "      <td>da</td>\n",
       "    </tr>\n",
       "    <tr>\n",
       "      <th>99135</th>\n",
       "      <td>Ved folketingsvalget i 2011 var Lone Loklindt ...</td>\n",
       "      <td>da</td>\n",
       "    </tr>\n",
       "    <tr>\n",
       "      <th>99136</th>\n",
       "      <td>Omøgade er ca. 400 meter lang og er beliggende...</td>\n",
       "      <td>da</td>\n",
       "    </tr>\n",
       "    <tr>\n",
       "      <th>99137</th>\n",
       "      <td>Danmark var neutralt under 1. Verdenskrig , me...</td>\n",
       "      <td>da</td>\n",
       "    </tr>\n",
       "  </tbody>\n",
       "</table>\n",
       "<p>99138 rows × 2 columns</p>\n",
       "</div>"
      ],
      "text/plain": [
       "                                                    text predicted\n",
       "0      Численность населения агломерации Парижа в 201...        ru\n",
       "1      Наиболее выдающийся вклад в создание современн...        ru\n",
       "2      С началом франко-прусской войны 1870—1871 годо...        ru\n",
       "3      Основное преимущество офсетных антенн в том, ч...        ru\n",
       "4      Выручка от реализации продукции, товаров, рабо...        ru\n",
       "...                                                  ...       ...\n",
       "99133  Under den tyske invasionen af Norge i 1940 ble...        da\n",
       "99134  Verdens ældste eksisterende marineinfanterikor...        da\n",
       "99135  Ved folketingsvalget i 2011 var Lone Loklindt ...        da\n",
       "99136  Omøgade er ca. 400 meter lang og er beliggende...        da\n",
       "99137  Danmark var neutralt under 1. Verdenskrig , me...        da\n",
       "\n",
       "[99138 rows x 2 columns]"
      ]
     },
     "execution_count": 33,
     "metadata": {},
     "output_type": "execute_result"
    }
   ],
   "source": [
    "pd.concat([test.text, pd.DataFrame(predicted, columns=['predicted'])], axis=1,)"
   ]
  }
 ],
 "metadata": {
  "interpreter": {
   "hash": "535e7dfa4e79b8a16ee5958c03c29abfca9eab7a4cbaa00a7baba8beca86875c"
  },
  "kernelspec": {
   "display_name": "Python 3.10.4 64-bit",
   "language": "python",
   "name": "python3"
  },
  "language_info": {
   "codemirror_mode": {
    "name": "ipython",
    "version": 3
   },
   "file_extension": ".py",
   "mimetype": "text/x-python",
   "name": "python",
   "nbconvert_exporter": "python",
   "pygments_lexer": "ipython3",
   "version": "3.9.12"
  },
  "orig_nbformat": 4
 },
 "nbformat": 4,
 "nbformat_minor": 2
}
